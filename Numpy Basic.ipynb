{
 "cells": [
  {
   "cell_type": "code",
   "execution_count": 1,
   "id": "cd05a483",
   "metadata": {},
   "outputs": [],
   "source": [
    "## Numpy Basic Assignment"
   ]
  },
  {
   "cell_type": "code",
   "execution_count": 2,
   "id": "171d05ff",
   "metadata": {},
   "outputs": [],
   "source": [
    "import numpy as np\n",
    "list_ = ['1','2','3','4','5']\n",
    "array_list = np.array(object=list_)"
   ]
  },
  {
   "cell_type": "code",
   "execution_count": 8,
   "id": "b28f2e0c",
   "metadata": {},
   "outputs": [
    {
     "name": "stdout",
     "output_type": "stream",
     "text": [
      "<class 'list'>\n",
      "<class 'numpy.ndarray'>\n"
     ]
    }
   ],
   "source": [
    "## Q1. Is there any difference in the data type of variables list_ and array_list? If there is then write a code\n",
    "#to print the data types of both the variables.\n",
    "\n",
    "a=type(list_)\n",
    "b=type(array_list)\n",
    "print(a)\n",
    "print(b)\n",
    "## yes there is difference between data type"
   ]
  },
  {
   "cell_type": "code",
   "execution_count": 15,
   "id": "16837c93",
   "metadata": {},
   "outputs": [
    {
     "name": "stdout",
     "output_type": "stream",
     "text": [
      "<class 'str'>\n",
      "<class 'str'>\n",
      "<class 'str'>\n",
      "<class 'str'>\n",
      "<class 'str'>\n",
      "<class 'numpy.str_'>\n",
      "<class 'numpy.str_'>\n",
      "<class 'numpy.str_'>\n",
      "<class 'numpy.str_'>\n",
      "<class 'numpy.str_'>\n"
     ]
    }
   ],
   "source": [
    "###  Q2. Write a code to print the data type of each and every element of both the variables list_ and\n",
    "## arra_list.\n",
    "\n",
    "for i in list_:\n",
    " print(type(i))\n",
    "for j in array_list:\n",
    "    print(type(j))"
   ]
  },
  {
   "cell_type": "code",
   "execution_count": 18,
   "id": "7ecaf1ec",
   "metadata": {},
   "outputs": [
    {
     "name": "stdout",
     "output_type": "stream",
     "text": [
      "<class 'list'>\n",
      "<class 'numpy.ndarray'>\n",
      "<class 'str'>\n",
      "<class 'str'>\n",
      "<class 'str'>\n",
      "<class 'str'>\n",
      "<class 'str'>\n",
      "<class 'numpy.int32'>\n",
      "<class 'numpy.int32'>\n",
      "<class 'numpy.int32'>\n",
      "<class 'numpy.int32'>\n",
      "<class 'numpy.int32'>\n"
     ]
    }
   ],
   "source": [
    "## Q3. Considering the following changes in the variable, array_list:\n",
    "\n",
    "array_list = np.array( object = list_, dtype = int)\n",
    "\n",
    "##Will there be any difference in the data type of the elements present in both the variables, list_ and\n",
    "# arra_list? If so then print the data types of each and every element present in both the variables, list_\n",
    "# and arra_list.\n",
    "\n",
    "a=type(list_)\n",
    "b=type(array_list)\n",
    "print(a)\n",
    "print(b)\n",
    "for i in list_:\n",
    " print(type(i))\n",
    "for j in array_list:\n",
    "    print(type(j))"
   ]
  },
  {
   "cell_type": "code",
   "execution_count": 19,
   "id": "7a27bedb",
   "metadata": {},
   "outputs": [],
   "source": [
    "## Consider the below code to answer further questions:\n",
    "num_list = [[1,2,3],[4,5,6]]\n",
    "num_array = np.array(object= num_list)"
   ]
  },
  {
   "cell_type": "code",
   "execution_count": 22,
   "id": "577fc256",
   "metadata": {},
   "outputs": [
    {
     "data": {
      "text/plain": [
       "6"
      ]
     },
     "execution_count": 22,
     "metadata": {},
     "output_type": "execute_result"
    }
   ],
   "source": [
    "## Q4. Write a code to find the following characteristics of variable, num_array:\n",
    "#(i) shape\n",
    "num_array.shape\n",
    "\n",
    "## (ii) size\n",
    "num_array.size"
   ]
  },
  {
   "cell_type": "code",
   "execution_count": 30,
   "id": "5b12dd3d",
   "metadata": {},
   "outputs": [
    {
     "data": {
      "text/plain": [
       "array([[0., 0., 0.],\n",
       "       [0., 0., 0.],\n",
       "       [0., 0., 0.]])"
      ]
     },
     "execution_count": 30,
     "metadata": {},
     "output_type": "execute_result"
    }
   ],
   "source": [
    "##  Q5. Write a code to create numpy array of 3*3 matrix containing zeros only, using a numpy array\n",
    "## creation function.\n",
    "np.zeros((3,3))"
   ]
  },
  {
   "cell_type": "code",
   "execution_count": 34,
   "id": "f29a9fe4",
   "metadata": {},
   "outputs": [
    {
     "data": {
      "text/plain": [
       "array([[1., 0., 0., 0., 0.],\n",
       "       [0., 1., 0., 0., 0.],\n",
       "       [0., 0., 1., 0., 0.],\n",
       "       [0., 0., 0., 1., 0.],\n",
       "       [0., 0., 0., 0., 1.]])"
      ]
     },
     "execution_count": 34,
     "metadata": {},
     "output_type": "execute_result"
    }
   ],
   "source": [
    "### Q6. Create an identity matrix of shape (5,5) using numpy functions?\n",
    "np.eye(5,5)"
   ]
  },
  {
   "cell_type": "code",
   "execution_count": null,
   "id": "810219a0",
   "metadata": {},
   "outputs": [],
   "source": []
  }
 ],
 "metadata": {
  "kernelspec": {
   "display_name": "Python 3 (ipykernel)",
   "language": "python",
   "name": "python3"
  },
  "language_info": {
   "codemirror_mode": {
    "name": "ipython",
    "version": 3
   },
   "file_extension": ".py",
   "mimetype": "text/x-python",
   "name": "python",
   "nbconvert_exporter": "python",
   "pygments_lexer": "ipython3",
   "version": "3.9.13"
  }
 },
 "nbformat": 4,
 "nbformat_minor": 5
}
